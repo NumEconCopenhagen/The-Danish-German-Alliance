{
 "cells": [
  {
   "cell_type": "markdown",
   "metadata": {},
   "source": [
    "# Inaugural Project"
   ]
  },
  {
   "cell_type": "markdown",
   "metadata": {},
   "source": [
    "Import relevant packages and methods, set magics:"
   ]
  },
  {
   "cell_type": "code",
   "execution_count": 51,
   "metadata": {
    "collapsed": true,
    "jupyter": {
     "outputs_hidden": true
    }
   },
   "outputs": [
    {
     "name": "stdout",
     "output_type": "stream",
     "text": [
      "The autoreload extension is already loaded. To reload it, use:\n",
      "  %reload_ext autoreload\n"
     ]
    }
   ],
   "source": [
    "import numpy as np\n",
    "%matplotlib inline \n",
    "import matplotlib.pyplot as plt\n",
    "plt.style.use('seaborn-whitegrid')\n",
    "from scipy import optimize\n",
    "%load_ext autoreload\n",
    "%autoreload 2"
   ]
  },
  {
   "cell_type": "markdown",
   "metadata": {},
   "source": [
    "The solutions to all questions are organized around a class containing methods for the individual utility, individual tax burden, population average tax burden, and the solution to the household problem. All corresponding functions and the class with innitial values of parameters are defined below."
   ]
  },
  {
   "cell_type": "code",
   "execution_count": 52,
   "metadata": {},
   "outputs": [],
   "source": [
    "def u_func(model,c,p_h):\n",
    "    \"\"\" class utility function returns utility for given \n",
    "    consumption level and housing quality stated as housing price\n",
    "    \n",
    "    Args:\n",
    "        \n",
    "        model: class attributes\n",
    "        c: consumption\n",
    "        p_h: housing quality stated as housing price\n",
    "         \n",
    "    Returns:\n",
    "    \n",
    "        utility\n",
    "    \n",
    "    \"\"\"\n",
    "    return c**(1-model.phi)*p_h**model.phi "
   ]
  },
  {
   "cell_type": "code",
   "execution_count": 53,
   "metadata": {},
   "outputs": [],
   "source": [
    "def t_func(model,p_h):\n",
    "    \"\"\"class tax function calculates total tax burden \n",
    "    for given housing price p_h\n",
    "  \n",
    "    Args:\n",
    "\n",
    "        model: class attributes\n",
    "        p_h: housing price\n",
    "   \n",
    "   Returns:\n",
    "    \n",
    "        individual tax burden\n",
    "        \n",
    "    \"\"\"\n",
    "    return model.tau_g*(p_h*model.epsilon)+model.tau_p*max((p_h*model.epsilon)-model.p_bar,0)"
   ]
  },
  {
   "cell_type": "code",
   "execution_count": 54,
   "metadata": {},
   "outputs": [],
   "source": [
    "def t_avrg_func(model, N):\n",
    "    \"\"\"Class average tax function returns average tax burden for\n",
    "    N random draws of cash in hand from lognormal distribution\n",
    "    \n",
    "    Args:\n",
    "\n",
    "        model: class attributes\n",
    "        N: number of draws from lognormal distribution\n",
    "   \n",
    "   Returns:\n",
    "    \n",
    "        average tax burden across N individuals\n",
    "        model.M: saves draws from distribution\n",
    "        model.p_h_list: saves list of optimal housing prices for M draws\n",
    "        \n",
    "    \"\"\"\n",
    "    np.random.seed(1)\n",
    "    M = np.random.lognormal(mean=-0.4, sigma=0.35, size=N)\n",
    "    \n",
    "    p_h_list = []\n",
    "    t_list = []\n",
    "    for m in M:\n",
    "        model.m = m\n",
    "        model.solve()\n",
    "        t_list.append(model.t)\n",
    "        p_h_list.append(model.p_h)\n",
    "   \n",
    "    model.t_avrg = sum(t_list)/N\n",
    "    \n",
    "    #for distribution plots M and h\n",
    "    model.M = M\n",
    "    model.p_h_list = p_h_list \n",
    "    \n",
    "    return model.t_avrg"
   ]
  },
  {
   "cell_type": "code",
   "execution_count": 55,
   "metadata": {},
   "outputs": [],
   "source": [
    "def solve(model):\n",
    "    \"\"\"solve function minimzes negative utility and saves \n",
    "    optimal values of consumption, housing, and corresponding tax burden\n",
    "    \n",
    "    Args:\n",
    "        \n",
    "        model: class attributes\n",
    "\n",
    "    Returns (saves):\n",
    "    \n",
    "        model.c: optimal consumption of class\n",
    "        model.p_h: optimal housing quality stated as house price of class\n",
    "        model.u: utility for optimal consumption and housing\n",
    "        model.t: tax burden corresponding to optimal consumption and housing of class\n",
    "    \n",
    "    \"\"\"\n",
    "    # a. objective function (to minimize) \n",
    "    obj = lambda x: -model.u_func(x[0],x[1]) # minimize -> negtive of utility\n",
    "        \n",
    "    # b. constraints and bounds\n",
    "    budget_constraint = lambda x: model.m-x[0]-(model.r*x[1]+model.tau_g*(x[1]*model.epsilon)+model.tau_p*max((x[1]*model.epsilon)-model.p_bar,0)) # violated if negative\n",
    "    constraints = ({'type':'ineq','fun':budget_constraint})\n",
    "        \n",
    "    # c. call solver\n",
    "    x0 = [model.m/2,model.m/2]    #initial guess\n",
    "    sol = optimize.minimize(obj,x0,method='SLSQP',constraints=constraints)\n",
    "        \n",
    "    # d. save\n",
    "    model.c = sol.x[0]\n",
    "    model.p_h = sol.x[1]\n",
    "    model.u = model.u_func(model.c,model.p_h)\n",
    "    model.t = model.t_func(model.p_h)"
   ]
  },
  {
   "cell_type": "code",
   "execution_count": 56,
   "metadata": {},
   "outputs": [],
   "source": [
    "class HousingClass:\n",
    "    \"\"\"Creates class for household problem, \n",
    "    initiates default attributes as stated in question 1,\n",
    "    includes functions defined above \"\"\" \n",
    "    def __init__(self):\n",
    "        \n",
    "        self.m = 0.5\n",
    "        self.phi = 0.3\n",
    "        self.epsilon = 0.5\n",
    "        self.r = 0.03\n",
    "        self.tau_g = 0.012\n",
    "        self.tau_p = 0.004\n",
    "        self.p_bar = 3\n",
    "            \n",
    "    solve = solve\n",
    "    u_func = u_func\n",
    "    t_func = t_func\n",
    "    t_avrg_func = t_avrg_func"
   ]
  },
  {
   "cell_type": "markdown",
   "metadata": {},
   "source": [
    "# Question 1"
   ]
  },
  {
   "cell_type": "markdown",
   "metadata": {},
   "source": [
    "Create a class for question 1 and calls the solver method described above to solve the houshold problem:"
   ]
  },
  {
   "cell_type": "code",
   "execution_count": 57,
   "metadata": {},
   "outputs": [
    {
     "name": "stdout",
     "output_type": "stream",
     "text": [
      "Optimal Consumption = 0.35005, Optimal Housing Quality = 4.16529, Utility = 0.73584\n"
     ]
    }
   ],
   "source": [
    "q1 = HousingClass()\n",
    "q1.solve()\n",
    "print(f'Optimal Consumption = {q1.c:.5f}, Optimal Housing Quality = {q1.p_h:.5f}, Utility = {q1.u:.5f}')"
   ]
  },
  {
   "cell_type": "markdown",
   "metadata": {},
   "source": [
    "# Question 2"
   ]
  },
  {
   "cell_type": "markdown",
   "metadata": {},
   "source": [
    "Plot $c*$ and $h*$ as function of $m$ for in the range of 0.4 and 1.5"
   ]
  },
  {
   "cell_type": "code",
   "execution_count": 58,
   "metadata": {},
   "outputs": [],
   "source": [
    "#create empty lists for optimal consumption values and optimal housing quality values\n",
    "c_values = []\n",
    "h_values = []\n",
    "\n",
    "#create space of possible cash-in-hand values\n",
    "m_values = np.linspace(0.4,1.5,100)\n",
    "\n",
    "#loop over possible cash in hand values,designating each m as new m for HousingClass from question 1,\n",
    "#solving each houshold problem and saving optimal consumption and housing to desginated lists\n",
    "for m in m_values:\n",
    "    q1.m = m\n",
    "    q1.solve()\n",
    "    c_values.append(q1.c)\n",
    "    h_values.append(q1.p_h)"
   ]
  },
  {
   "cell_type": "code",
   "execution_count": 71,
   "metadata": {},
   "outputs": [
    {
     "data": {
      "image/png": "[encoded data removed]",
      "text/plain": [
       "<Figure size 432x288 with 2 Axes>"
      ]
     },
     "metadata": {},
     "output_type": "display_data"
    }
   ],
   "source": [
    "#plot figure with cash on hand values on x-axis \n",
    "#and spending on consumption and housing according to optimal solution on y-axes\n",
    "\n",
    "fig, ax1 = plt.subplots()\n",
    "color = 'tab:red'\n",
    "ax1.set_xlabel('Cash-on-hand $m$')\n",
    "ax1.set_ylabel('Consumption',color=color)\n",
    "ax1.plot(m_values,c_values,label='Consumption',color=color)\n",
    "ax1.tick_params(axis='y',labelcolor=color)\n",
    "\n",
    "ax2 = ax1.twinx()  # instantiate a second axes that shares the same x-axis\n",
    "color = 'tab:blue'\n",
    "ax2.set_ylabel('Housing quality', color=color)  # we already handled the x-label with ax1\n",
    "ax2.plot(m_values,h_values,label='Housing',color=color)\n",
    "ax2.tick_params(axis='y', labelcolor=color)\n",
    "\n",
    "fig.tight_layout() "
   ]
  },
  {
   "cell_type": "markdown",
   "metadata": {},
   "source": [
    "# Question 3"
   ]
  },
  {
   "cell_type": "markdown",
   "metadata": {},
   "source": [
    "To calculate the average tax burden across 10000 housholds we call the corresponding class function with N=10000"
   ]
  },
  {
   "cell_type": "code",
   "execution_count": 60,
   "metadata": {},
   "outputs": [
    {
     "data": {
      "text/plain": [
       "0.03631504578621753"
      ]
     },
     "execution_count": 60,
     "metadata": {},
     "output_type": "execute_result"
    }
   ],
   "source": [
    "q1.t_avrg_func(10000)"
   ]
  },
  {
   "cell_type": "markdown",
   "metadata": {},
   "source": [
    "Below we plot the distribution of cash in hand and corresponding optimal housing values by retrieving the values of cash in hand M and list of corresponding optimal housing values p_h_list for the HousingClass of question 1."
   ]
  },
  {
   "cell_type": "code",
   "execution_count": 61,
   "metadata": {},
   "outputs": [
    {
     "data": {
      "image/png": "[encoded data removed]",
      "text/plain": [
       "<Figure size 800x300 with 2 Axes>"
      ]
     },
     "metadata": {},
     "output_type": "display_data"
    }
   ],
   "source": [
    "#plotting the distribution of cash on hand\n",
    "fig = plt.figure(figsize=(8,3), dpi=100)\n",
    "\n",
    "ax_left = fig.add_subplot(1,2,1)\n",
    "ax_left.hist(q1.M,bins=100,density=True,label='normal')\n",
    "ax_left.set_title('Distribution of cash-on-hand')\n",
    "ax_left.set_xlabel('Cash-on-hand, $m$')\n",
    "ax_left.grid(True)\n",
    "\n",
    "ax_right = fig.add_subplot(1,2,2)\n",
    "ax_right.hist(q1.p_h_list, bins=100)\n",
    "ax_right.set_title('Distribution of optimal housing choice')\n",
    "ax_right.set_xlabel('Optimal housing quality, $h*$')\n",
    "\n",
    "plt.show()\n"
   ]
  },
  {
   "cell_type": "markdown",
   "metadata": {},
   "source": [
    "We observe bunching of optimal hosuing choices around 6 mio. dkk which does not correspond similar bunching in the distribution of m. THis is the same plateau observed in the figure of question 2 and can be explained by the cutoff value of the progressive tax."
   ]
  },
  {
   "cell_type": "markdown",
   "metadata": {},
   "source": [
    "# Question 4"
   ]
  },
  {
   "cell_type": "markdown",
   "metadata": {},
   "source": [
    "The new average tax burden is calculated by creating a new housing class q4, setting the new attributes, and calling the average tax burden class function."
   ]
  },
  {
   "cell_type": "code",
   "execution_count": 62,
   "metadata": {},
   "outputs": [
    {
     "data": {
      "text/plain": [
       "0.04501876791715367"
      ]
     },
     "execution_count": 62,
     "metadata": {},
     "output_type": "execute_result"
    }
   ],
   "source": [
    "q4 = HousingClass()\n",
    "q4.epsilon = 0.8\n",
    "q4.tau_g = 0.01\n",
    "q4.tau_p = 0.009\n",
    "q4.p_bar = 8\n",
    "\n",
    "q4.t_avrg_func(10000)"
   ]
  },
  {
   "cell_type": "markdown",
   "metadata": {},
   "source": [
    "The new average tax burden is higher than before."
   ]
  },
  {
   "cell_type": "markdown",
   "metadata": {},
   "source": [
    "# Question 5"
   ]
  },
  {
   "cell_type": "markdown",
   "metadata": {},
   "source": [
    "To calculate the tax level $\\tau^g$ that offsets the rise in tax burden observed in question 4, we first create a new housing class q5 with the required parameter values, second, creating a function calculating the difference between the original low average tax burden and the average tax burden for the new parameters and a variable $\\tau^g$, and lastly optimizing to find the $\\tau^g$ that minimizes this difference."
   ]
  },
  {
   "cell_type": "code",
   "execution_count": 63,
   "metadata": {},
   "outputs": [],
   "source": [
    "q5 = HousingClass()\n",
    "q5.epsilon = 0.8\n",
    "q5.tau_p = 0.009\n",
    "q5.p_bar = 8"
   ]
  },
  {
   "cell_type": "code",
   "execution_count": 64,
   "metadata": {},
   "outputs": [],
   "source": [
    "def t_avrg_dif_func(tau_g):\n",
    "    \"\"\"function calculating the difference between the average tax burden \n",
    "    from the first specification in question 3 and specifications with \n",
    "    new parameters from question 5 for variable levels of tau_g\n",
    "    \n",
    "    Args:\n",
    "        \n",
    "        tau_g: tax rate\n",
    "\n",
    "    Returns:\n",
    "    \n",
    "        t_avrg_dif: difference between original q1 and new q5 average tax burden\n",
    "\n",
    "    \"\"\"  \n",
    "    global it \n",
    "    #set class attribute tau_g in new class equal to input tau_g and call class solver and average tax burden functions\n",
    "    q5.tau_g = tau_g\n",
    "    q5.solve()\n",
    "    q5.t_avrg_func(10000)\n",
    "   \n",
    "    #calculate, print, and return absolute difference between q1 and q5 average tax burdens \n",
    "    t_avrg_dif = np.abs(q1.t_avrg - q5.t_avrg)\n",
    "    print(f'{it:3d}: tau_g = {q5.tau_g:.5f}, tax burden difference = {t_avrg_dif:.10f},')\n",
    "    it+=1\n",
    "    return t_avrg_dif"
   ]
  },
  {
   "cell_type": "code",
   "execution_count": 65,
   "metadata": {},
   "outputs": [
    {
     "name": "stdout",
     "output_type": "stream",
     "text": [
      "  0: tau_g = 0.00382, tax burden difference = 0.0164033594,\n",
      "  1: tau_g = 0.00618, tax burden difference = 0.0060320577,\n",
      "  2: tau_g = 0.00764, tax burden difference = 0.0001263835,\n",
      "  3: tau_g = 0.00854, tax burden difference = 0.0033477439,\n",
      "  4: tau_g = 0.00754, tax burden difference = 0.0005296031,\n",
      "  5: tau_g = 0.00785, tax burden difference = 0.0007015636,\n",
      "  6: tau_g = 0.00768, tax burden difference = 0.0000372462,\n",
      "  7: tau_g = 0.00775, tax burden difference = 0.0002907719,\n",
      "  8: tau_g = 0.00768, tax burden difference = 0.0000241923,\n",
      "  9: tau_g = 0.00767, tax burden difference = 0.0000179547,\n",
      " 10: tau_g = 0.00766, tax burden difference = 0.0000593220,\n",
      " 11: tau_g = 0.00767, tax burden difference = 0.0000048920,\n",
      " 12: tau_g = 0.00767, tax burden difference = 0.0000081755,\n"
     ]
    },
    {
     "data": {
      "text/plain": [
       "     fun: 4.891998331334191e-06\n",
       " message: 'Solution found.'\n",
       "    nfev: 13\n",
       "  status: 0\n",
       " success: True\n",
       "       x: 0.0076703023464574655"
      ]
     },
     "execution_count": 65,
     "metadata": {},
     "output_type": "execute_result"
    }
   ],
   "source": [
    "obj = lambda x: t_avrg_dif_func(x)    ##set function defined above as objective\n",
    "\n",
    "bounds = (0,q4.tau_g)     #define bounds for tau_g between 0 and tau_g in q4 specification\n",
    "x0 = [q4.tau_g]    #tau_g from q4 as initial guess \n",
    "it = 0\n",
    "optimize.minimize_scalar(obj, bracket=None, bounds=bounds, method='bounded', tol=None, options=None)     #call solver"
   ]
  },
  {
   "cell_type": "markdown",
   "metadata": {},
   "source": [
    "Setting the tax rate $\\tau^g$ to 0.00767 will minimize the added tax burden to 0.000004892."
   ]
  }
 ],
 "metadata": {
  "kernelspec": {
   "display_name": "Python 3",
   "language": "python",
   "name": "python3"
  },
  "language_info": {
   "codemirror_mode": {
    "name": "ipython",
    "version": 3
   },
   "file_extension": ".py",
   "mimetype": "text/x-python",
   "name": "python",
   "nbconvert_exporter": "python",
   "pygments_lexer": "ipython3",
   "version": "3.8.5"
  },
  "toc-autonumbering": true
 },
 "nbformat": 4,
 "nbformat_minor": 4
}
