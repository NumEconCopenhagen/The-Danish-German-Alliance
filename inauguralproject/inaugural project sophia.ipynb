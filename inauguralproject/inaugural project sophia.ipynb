{
 "cells": [
  {
   "cell_type": "markdown",
   "metadata": {},
   "source": [
    "# Inaugural project"
   ]
  },
  {
   "cell_type": "markdown",
   "metadata": {},
   "source": [
    "Imports and set magics"
   ]
  },
  {
   "cell_type": "code",
   "execution_count": 2,
   "metadata": {},
   "outputs": [],
   "source": [
    "import numpy as np\n",
    "import math\n",
    "\n",
    "# autoreload modules when code is run\n",
    "%load_ext autoreload\n",
    "%autoreload 2\n",
    "\n",
    "# local modules\n",
    "#import inauguralproject"
   ]
  },
  {
   "cell_type": "markdown",
   "metadata": {},
   "source": [
    "# Question 1"
   ]
  },
  {
   "cell_type": "markdown",
   "metadata": {},
   "source": [
    "$\n",
    "m: endowment \\\\\n",
    "c: composite \\ good\\\\\n",
    "h: housing \\ quality\\\\\n",
    "p_h: price \\ of \\ house \\ with \\ quality \\ h\\\\\n",
    "$\n",
    "\n",
    "Household chooses consumption of housing and the composite good such that its utility is maximized:\n",
    "\n",
    "$\n",
    "\\begin{align*}\n",
    "c^*, h^* = arg \\ max_{c,h} \\ c^{1-\\phi} h^{\\phi}\n",
    "\\end{align*}\n",
    "$\n",
    "\n"
   ]
  },
  {
   "cell_type": "code",
   "execution_count": 3,
   "metadata": {},
   "outputs": [
    {
     "name": "stdout",
     "output_type": "stream",
     "text": [
      "{'phi': 0.3, 'eps': 0.5, 'r': 0.03, 'tau_g': 0.012, 'tau_p': 0.004, 'p_bar': 3, 'p_c': 1}\n"
     ]
    }
   ],
   "source": [
    "para = {'phi': 0.3, 'eps': 0.5, 'r': 0.03, 'tau_g': 0.012, 'tau_p': 0.004, 'p_bar': 3, 'p_c': 1}\n",
    "print(para)"
   ]
  },
  {
   "cell_type": "code",
   "execution_count": 4,
   "metadata": {},
   "outputs": [
    {
     "name": "stdout",
     "output_type": "stream",
     "text": [
      "1.0\n"
     ]
    }
   ],
   "source": [
    "def utility_function(c, h, para):\n",
    "    '''returns utility for a given c, h, and phi'''\n",
    "    u = c**(1-para['phi'])*h**(para['phi'])\n",
    "    return u\n",
    "print(utility_function(1,1, para))"
   ]
  },
  {
   "cell_type": "code",
   "execution_count": 5,
   "metadata": {},
   "outputs": [
    {
     "name": "stdout",
     "output_type": "stream",
     "text": [
      "0.036\n"
     ]
    }
   ],
   "source": [
    "def exp_housing(p_h, para):\n",
    "    '''returns the costs of buying a house of quality h'''\n",
    "    exp_housing= para['r'] * p_h + para['tau_g'] * (p_h * para['eps']) + para['tau_p'] * max((p_h * para['eps'] - para['p_bar'], 0))\n",
    "    return exp_housing\n",
    "print(exp_housing(1, para))"
   ]
  },
  {
   "cell_type": "code",
   "execution_count": 6,
   "metadata": {},
   "outputs": [
    {
     "name": "stdout",
     "output_type": "stream",
     "text": [
      "1.036\n"
     ]
    }
   ],
   "source": [
    "def expenditures(p_h, c, para):\n",
    "    '''returns the expenditures of the consumption bundle'''\n",
    "    E = exp_housing(p_h, para) + c\n",
    "    return E\n",
    "print(expenditures(1,1, para))"
   ]
  },
  {
   "cell_type": "markdown",
   "metadata": {},
   "source": [
    "## Solve like Lasse: Multi-dimensional constrained solver"
   ]
  },
  {
   "cell_type": "code",
   "execution_count": 7,
   "metadata": {},
   "outputs": [],
   "source": [
    "from scipy import optimize\n",
    "\n",
    "def value_of_choice(x, para, m):\n",
    "    c = x[0]\n",
    "    h = x[1]\n",
    "    return -utility_function(c, h, para) #minus to take the negative of the utility because optimization always minimizes\n"
   ]
  },
  {
   "cell_type": "code",
   "execution_count": 8,
   "metadata": {},
   "outputs": [
    {
     "name": "stdout",
     "output_type": "stream",
     "text": [
      "The optimal consumption level is: 0.3500\n",
      " The optimal house quality is: 4.1653\n",
      " The utility is: 0.7358\n"
     ]
    }
   ],
   "source": [
    "# constraint function (negative if violated)\n",
    "constraints = ({'type': 'ineq', 'fun': lambda x: m-\n",
    "                ( x[0] +  para['r'] * x[1] + para['tau_g'] * x[1] * para['eps'] + para['tau_p'] * max(x[1] * para['eps'] - para['p_bar'], 0))})\n",
    " \n",
    "m=0.5\n",
    "# call optimizer\n",
    "initial_guess = [m/2, m/2] # some guess, should be feasible\n",
    " \n",
    "res = optimize.minimize(value_of_choice,initial_guess, args=(para, m), method='SLSQP',constraints=constraints)\n",
    "\n",
    "\n",
    "c_best = res.x[0]\n",
    "h_best = res.x[1]\n",
    "u_best = utility_function(c_best, h_best, para)\n",
    "\n",
    "# c. print result\n",
    "\n",
    "print(f'The optimal consumption level is: {c_best:.4f}')\n",
    "\n",
    "print(f' The optimal house quality is: {h_best:.4f}')\n",
    "\n",
    "print(f' The utility is: {u_best:.4f}')"
   ]
  },
  {
   "cell_type": "markdown",
   "metadata": {},
   "source": [
    "# Question 2"
   ]
  },
  {
   "cell_type": "code",
   "execution_count": 53,
   "metadata": {},
   "outputs": [
    {
     "name": "stdout",
     "output_type": "stream",
     "text": [
      "0.28001147239271823\n",
      "0.2948651593473346\n",
      "0.3097200732512214\n",
      "0.3245765538555443\n",
      "0.33943500131073434\n",
      "0.3542960478949068\n",
      "0.3691603827904787\n",
      "0.38402905811604454\n",
      "0.3989030254457231\n",
      "0.41378360769839806\n",
      "0.42867202491061135\n",
      "0.44356947480179065\n",
      "0.45847739139258387\n",
      "0.47303556968690497\n",
      "0.4878859879341219\n",
      "0.5027370310793139\n",
      "0.5233815891111668\n",
      "0.5407707477688241\n",
      "0.5558171036122915\n",
      "0.5705273522442869\n",
      "0.5853784824770354\n",
      "0.6002305453746187\n",
      "0.6150839651030952\n",
      "0.6299383074788739\n",
      "0.6448260916072283\n",
      "0.6596869420158604\n",
      "0.6745496445927298\n",
      "0.689413159631146\n",
      "0.7042720775818677\n",
      "0.7191324652967279\n",
      "0.7339945163273601\n",
      "0.7488585051704428\n",
      "0.7637242947345929\n",
      "0.7785925484641261\n",
      "0.7934631462462487\n",
      "0.8083367116841076\n",
      "0.8232130399736164\n",
      "0.8380926514753438\n",
      "0.8529754113168013\n",
      "0.8678618345362664\n",
      "0.8827517589474732\n",
      "0.8971926789526214\n",
      "0.9120420472762951\n",
      "0.926891526303558\n",
      "0.941741048665998\n",
      "0.9565907292463681\n",
      "0.9714403535457335\n",
      "0.9862903595127221\n",
      "1.0011403831556145\n",
      "1.015991001745197\n",
      "1.0308411436299956\n",
      "1.0456920877845022\n",
      "1.0605428624199293\n",
      "1.0753936959699424\n",
      "1.0902450776994126\n",
      "1.1050959188295255\n",
      "1.1199475815761888\n",
      "1.1347989806706362\n",
      "1.1496503615398397\n",
      "1.164502180361654\n",
      "1.1793539056055669\n",
      "1.194205926366518\n",
      "1.2090580026348972\n",
      "1.2239102199338943\n",
      "1.238762378093672\n",
      "1.253614627298372\n",
      "1.26846751972323\n",
      "1.2833200648851468\n",
      "1.2981770620391493\n",
      "1.3130330019723349\n",
      "1.327889803468777\n",
      "1.342746748138608\n",
      "1.3576045035459712\n",
      "1.3724623064132702\n",
      "1.3873203512028576\n",
      "1.4021790561154117\n",
      "1.4170382769743883\n",
      "1.431898264455476\n",
      "1.4467581486178378\n",
      "1.4616187691456053\n",
      "1.4764794824138583\n",
      "1.491341211902399\n",
      "1.5062036106302923\n",
      "1.521066387745228\n",
      "1.5359287065979117\n",
      "1.5507925552297686\n",
      "1.565656102047922\n",
      "1.5805209299812448\n",
      "1.5953852930897028\n",
      "1.6102508144415115\n",
      "1.6251171651103797\n",
      "1.6399833715861791\n",
      "1.6548507481603698\n",
      "1.6697178951590796\n",
      "1.6845867104637837\n",
      "1.6994549591765573\n",
      "1.714324130833712\n",
      "1.72919443429235\n",
      "1.7440645060109927\n",
      "1.7589348771655606\n"
     ]
    }
   ],
   "source": [
    "import numpy as np\n",
    "import matplotlib.pyplot as plt # baseline modul\n",
    "\n",
    "#Data containers\n",
    "c_star = []\n",
    "h_star = []\n",
    "x_axis = []\n",
    "# loop 100 values between 0.4 and 2.5, 2.5 included\n",
    "for m in np.linspace(0.4,2.5,num=100,endpoint=True):\n",
    "\n",
    "    #solution model from assingment 1.\n",
    "    sol_case = optimize.minimize(\n",
    "    value_of_choice,initial_guess,args=(para,m),\n",
    "    method='SLSQP',constraints=constraints)\n",
    "\n",
    "    c = sol_case.x[0]\n",
    "    h= sol_case.x[1]\n",
    "    \n",
    "   # print(c)\n",
    "\n",
    "    #appending the results to the data containers \n",
    "    c_star.append(c)\n",
    "    h_star.append(h)\n",
    "    x_axis.append(m)\n",
    "    \n"
   ]
  },
  {
   "cell_type": "code",
   "execution_count": 10,
   "metadata": {},
   "outputs": [
    {
     "data": {
      "image/png": "[encoded data removed]",
      "text/plain": [
       "<Figure size 864x288 with 2 Axes>"
      ]
     },
     "metadata": {
      "needs_background": "light"
     },
     "output_type": "display_data"
    }
   ],
   "source": [
    "\n",
    "    \n",
    "\n",
    "\n",
    "#initialising the figuere\n",
    "fig = plt.figure(figsize=(12,4))\n",
    "\n",
    "# Optimal consumption\n",
    "ax = fig.add_subplot(1,2,1)\n",
    "ax.plot(x_axis, c_star, color='blue', label=\"$c*$\", linewidth=5)\n",
    "ax.set_ylabel('Consumption, $c*$')\n",
    "ax.set_xlabel('Endowment, $m$')\n",
    "\n",
    "# adding legend\n",
    "plt.legend(loc='best', fontsize=15)\n",
    "\n",
    "# costumizing end and begining of x and y axis\n",
    "ax.set_xlim([0,2.7])\n",
    "ax.set_ylim([0,2.5])\n",
    "ax.grid(True)\n",
    "\n",
    "\n",
    "# Optimal housing\n",
    "ax = fig.add_subplot(1,2,2)\n",
    "ax.plot(x_axis, h_star, color='red', label=\"$h*$\", linewidth=5)\n",
    "ax.set_ylabel('Housing, h*')\n",
    "ax.set_xlabel('Endowmnent, $m$')\n",
    "\n",
    "# adding legend\n",
    "plt.legend(loc='best', fontsize=15)\n",
    "\n",
    "# costumizing end and begining of x and y axis.\n",
    "ax.set_xlim([0,2.7])\n",
    "ax.set_ylim([0,22])\n",
    "ax.grid(True)"
   ]
  },
  {
   "cell_type": "markdown",
   "metadata": {},
   "source": [
    "## Question 3"
   ]
  },
  {
   "cell_type": "code",
   "execution_count": 228,
   "metadata": {},
   "outputs": [],
   "source": [
    "#def c_func(x):\n",
    " #   c=x[0]\n",
    "  #  return c"
   ]
  },
  {
   "cell_type": "code",
   "execution_count": 229,
   "metadata": {},
   "outputs": [],
   "source": [
    "#def h_func(x):\n",
    " #   h=x[1]\n",
    "  #\"  return h"
   ]
  },
  {
   "cell_type": "code",
   "execution_count": 236,
   "metadata": {},
   "outputs": [],
   "source": [
    "#def demand_h(para):\n",
    " #   m = x[0] + para['r'] * x[1] + para['tau_g'] * x[1] * para['eps'] + para['tau_p'] * max(x[1] * para['eps'] - para['p_bar'], 0)*h\n",
    "  #  return para['phi']*m/(para['r'] * x[1] + para['tau_g'] * x[1] * para['eps'] + para['tau_p'] * max(x[1] * para['eps'] - para['p_bar'], 0))"
   ]
  },
  {
   "cell_type": "code",
   "execution_count": 11,
   "metadata": {},
   "outputs": [
    {
     "name": "stdout",
     "output_type": "stream",
     "text": [
      "[1.18355294 0.54111971 0.5571838  ... 0.47003396 0.65577097 0.40524864]\n"
     ]
    }
   ],
   "source": [
    "np.random.seed(1)\n",
    "m_i = np.random.lognormal(mean=-0.4,sigma=0.35,size=10000)\n",
    "print (m_i)"
   ]
  },
  {
   "cell_type": "code",
   "execution_count": 59,
   "metadata": {},
   "outputs": [],
   "source": [
    "c_optimal = []\n",
    "h_optimal = []\n",
    "\n",
    "np.random.seed(1)\n",
    "for m in np.random.lognormal(mean= -0.4,sigma = 0.35,size=10000):\n",
    "    \n",
    "    sol_tax = optimize.minimize(\n",
    "    value_of_choice,initial_guess,args=(para,m),\n",
    "    method='SLSQP',constraints=constraints)\n",
    "\n",
    "    c_best = sol_tax.x[0]\n",
    "    h_best= sol_tax.x[1]\n",
    "    \n",
    "   #print(c_best)\n",
    "    #print(h_best)\n",
    "    \n",
    "    c_optimal.append(c_best)\n",
    "    h_optimal.append(h_best)\n",
    "    \n"
   ]
  },
  {
   "cell_type": "code",
   "execution_count": 256,
   "metadata": {},
   "outputs": [
    {
     "name": "stdout",
     "output_type": "stream",
     "text": [
      "<function tax_indiv at 0x000001B1A926ADC0>\n"
     ]
    }
   ],
   "source": [
    "#def tax_indiv(p_h_i, para):\n",
    " #   tax_indiv = para['tau_g']*p_h_i + max(p_h_i - para['p_bar'],0) \n",
    "  #  return tax_indiv\n",
    "#print(tax_indiv)"
   ]
  },
  {
   "cell_type": "code",
   "execution_count": 254,
   "metadata": {},
   "outputs": [
    {
     "name": "stdout",
     "output_type": "stream",
     "text": [
      "<function tax_return at 0x000001B1A9212550>\n"
     ]
    }
   ],
   "source": [
    " #def tax_return(p_h_i, para):\n",
    "  #      indiv=tax_indiv(p_h_i, para)\n",
    "   #     tax_return=indiv.sum()\n",
    "    #    return tax_return\n",
    "#print(tax_return)"
   ]
  },
  {
   "cell_type": "code",
   "execution_count": 23,
   "metadata": {},
   "outputs": [
    {
     "name": "stdout",
     "output_type": "stream",
     "text": [
      "812.7491280744767\n"
     ]
    }
   ],
   "source": [
    "tax = 0\n",
    "\n",
    "for val in h_optimal:\n",
    "    taxreturn = para['tau_g']*val + para['tau_p']*max(val - para['p_bar'],0) \n",
    "    tax += taxreturn\n",
    "\n",
    "print(tax)"
   ]
  },
  {
   "cell_type": "code",
   "execution_count": 24,
   "metadata": {},
   "outputs": [
    {
     "name": "stdout",
     "output_type": "stream",
     "text": [
      "0.08127491280744767\n"
     ]
    }
   ],
   "source": [
    "N=10000\n",
    "tax_per_hh=tax/N\n",
    "print(tax_per_hh)"
   ]
  },
  {
   "cell_type": "markdown",
   "metadata": {},
   "source": [
    "## Optional question: Plotting the distributions"
   ]
  },
  {
   "cell_type": "code",
   "execution_count": 28,
   "metadata": {},
   "outputs": [
    {
     "data": {
      "text/plain": [
       "(array([0.04473041, 0.06709562, 0.1304637 , 0.25347233, 0.37648096,\n",
       "        0.52930987, 0.82005754, 0.92070097, 1.18908344, 1.32327467,\n",
       "        1.60283974, 1.62147741, 1.59538467, 1.79294399, 1.84140193,\n",
       "        1.67366289, 1.75194111, 1.67366289, 1.72957591, 1.45373837,\n",
       "        1.42764563, 1.41273549, 1.20026604, 1.17044576, 0.98779658,\n",
       "        0.9132459 , 0.94306617, 0.77905466, 0.70450398, 0.59267795,\n",
       "        0.59267795, 0.49203452, 0.45103165, 0.3913911 , 0.4025737 ,\n",
       "        0.34666069, 0.24601726, 0.24228973, 0.18264918, 0.14910137,\n",
       "        0.17892165, 0.09318836, 0.16028397, 0.12300863, 0.05964055,\n",
       "        0.07455069, 0.07455069, 0.09691589, 0.05218548, 0.04845795,\n",
       "        0.04100288, 0.01491014, 0.02609274, 0.01491014, 0.02982027,\n",
       "        0.02236521, 0.02609274, 0.01863767, 0.0111826 , 0.00745507,\n",
       "        0.02609274, 0.00372753, 0.        , 0.00745507, 0.00745507,\n",
       "        0.00745507, 0.00372753, 0.00372753, 0.        , 0.00372753,\n",
       "        0.        , 0.        , 0.        , 0.        , 0.00372753,\n",
       "        0.        , 0.00372753, 0.        , 0.        , 0.00372753,\n",
       "        0.        , 0.        , 0.        , 0.        , 0.        ,\n",
       "        0.        , 0.        , 0.        , 0.00372753, 0.        ,\n",
       "        0.        , 0.        , 0.        , 0.        , 0.        ,\n",
       "        0.        , 0.        , 0.        , 0.        , 0.00372753]),\n",
       " array([0.20028959, 0.22711697, 0.25394436, 0.28077175, 0.30759913,\n",
       "        0.33442652, 0.3612539 , 0.38808129, 0.41490867, 0.44173606,\n",
       "        0.46856345, 0.49539083, 0.52221822, 0.5490456 , 0.57587299,\n",
       "        0.60270037, 0.62952776, 0.65635515, 0.68318253, 0.71000992,\n",
       "        0.7368373 , 0.76366469, 0.79049207, 0.81731946, 0.84414685,\n",
       "        0.87097423, 0.89780162, 0.924629  , 0.95145639, 0.97828378,\n",
       "        1.00511116, 1.03193855, 1.05876593, 1.08559332, 1.1124207 ,\n",
       "        1.13924809, 1.16607548, 1.19290286, 1.21973025, 1.24655763,\n",
       "        1.27338502, 1.3002124 , 1.32703979, 1.35386718, 1.38069456,\n",
       "        1.40752195, 1.43434933, 1.46117672, 1.4880041 , 1.51483149,\n",
       "        1.54165888, 1.56848626, 1.59531365, 1.62214103, 1.64896842,\n",
       "        1.6757958 , 1.70262319, 1.72945058, 1.75627796, 1.78310535,\n",
       "        1.80993273, 1.83676012, 1.8635875 , 1.89041489, 1.91724228,\n",
       "        1.94406966, 1.97089705, 1.99772443, 2.02455182, 2.0513792 ,\n",
       "        2.07820659, 2.10503398, 2.13186136, 2.15868875, 2.18551613,\n",
       "        2.21234352, 2.23917091, 2.26599829, 2.29282568, 2.31965306,\n",
       "        2.34648045, 2.37330783, 2.40013522, 2.42696261, 2.45378999,\n",
       "        2.48061738, 2.50744476, 2.53427215, 2.56109953, 2.58792692,\n",
       "        2.61475431, 2.64158169, 2.66840908, 2.69523646, 2.72206385,\n",
       "        2.74889123, 2.77571862, 2.80254601, 2.82937339, 2.85620078,\n",
       "        2.88302816]),\n",
       " <BarContainer object of 100 artists>)"
      ]
     },
     "execution_count": 28,
     "metadata": {},
     "output_type": "execute_result"
    },
    {
     "data": {
      "image/png": "[encoded data removed]",
      "text/plain": [
       "<Figure size 600x400 with 1 Axes>"
      ]
     },
     "metadata": {
      "needs_background": "light"
     },
     "output_type": "display_data"
    }
   ],
   "source": [
    "M = np.random.lognormal(mean= -0.4,sigma = 0.35,size=10000)\n",
    "\n",
    "fig = plt.figure(dpi=100) #Dots per inches (dpi) determines how many pixels the figure comprises. The default dpi in matplotlib is 100.\n",
    "ax = fig.add_subplot(1,1,1)\n",
    "ax.hist(M,bins=100,density=True,label='normal')\n",
    "\n"
   ]
  },
  {
   "cell_type": "code",
   "execution_count": 289,
   "metadata": {},
   "outputs": [
    {
     "data": {
      "image/png": "[encoded data removed]",
      "text/plain": [
       "<Figure size 432x288 with 1 Axes>"
      ]
     },
     "metadata": {},
     "output_type": "display_data"
    }
   ],
   "source": [
    "import matplotlib.pyplot as plt\n",
    "plt.hist(h_optimal, bins=100)\n",
    "plt.show()\n",
    "#for i,h_now in enumerate(h_optimal):\n",
    " #   fig=plt.figure(dpi=100)\n",
    "  #  ax.fig.add_subplot(1,1,1)\n",
    "   # ax.hist(h_now,density=True,alpha=0.5,label=f'$p_1 = {p1}$')"
   ]
  },
  {
   "cell_type": "markdown",
   "metadata": {},
   "source": [
    "# Question 4"
   ]
  },
  {
   "cell_type": "code",
   "execution_count": 31,
   "metadata": {},
   "outputs": [
    {
     "name": "stdout",
     "output_type": "stream",
     "text": [
      "{'phi': 0.3, 'eps': 0.8, 'r': 0.03, 'tau_g': 0.01, 'tau_p': 0.009, 'p_bar': 8, 'p_c': 1}\n"
     ]
    }
   ],
   "source": [
    "para_new = {'phi': 0.3, 'eps': 0.8, 'r': 0.03, 'tau_g': 0.01, 'tau_p': 0.009, 'p_bar': 8, 'p_c': 1}\n",
    "print(para_new)"
   ]
  },
  {
   "cell_type": "code",
   "execution_count": 32,
   "metadata": {},
   "outputs": [],
   "source": [
    "def value_of_choice_new(x_new, para_new, m):\n",
    "    c = x_new[0]\n",
    "    h = x_new[1]\n",
    "    return -utility_function(c, h, para_new) #minus to take the negative of the utility because optimization always minimizes"
   ]
  },
  {
   "cell_type": "code",
   "execution_count": 33,
   "metadata": {},
   "outputs": [],
   "source": [
    "constraints_new = ({'type': 'ineq', 'fun': lambda x_new: m-\n",
    "                ( x_new[0] +  para_new['r'] * x_new[1] + para_new['tau_g'] * x_new[1] * para_new['eps'] + para_new['tau_p'] * max(x_new[1] * para_new['eps'] - para_new['p_bar'], 0))})"
   ]
  },
  {
   "cell_type": "code",
   "execution_count": null,
   "metadata": {},
   "outputs": [],
   "source": []
  },
  {
   "cell_type": "code",
   "execution_count": 34,
   "metadata": {},
   "outputs": [
    {
     "name": "stdout",
     "output_type": "stream",
     "text": [
      "[1.18355294 0.54111971 0.5571838  ... 0.47003396 0.65577097 0.40524864]\n"
     ]
    }
   ],
   "source": [
    "np.random.seed(1)\n",
    "m_i = np.random.lognormal(mean=-0.4,sigma=0.35,size=10000)\n",
    "print (m_i)"
   ]
  },
  {
   "cell_type": "code",
   "execution_count": 72,
   "metadata": {},
   "outputs": [],
   "source": [
    "c_optimal_new = [0]\n",
    "h_optimal_new = [0]\n",
    "\n",
    "np.random.seed(1)\n",
    "for m in np.random.lognormal(mean= -0.4,sigma = 0.35,size=10000):\n",
    "    \n",
    "    sol_tax_new = optimize.minimize(\n",
    "    value_of_choice_new,initial_guess,args=(para_new,m),\n",
    "    method='SLSQP',constraints=constraints_new)\n",
    "\n",
    "    c_best_new = sol_tax_new.x[0]\n",
    "    h_best_new = sol_tax_new.x[1]\n",
    "    \n",
    "    #print(c_best_new)\n",
    "    \n",
    "    c_optimal_new.append(c_best_new)\n",
    "    h_optimal_new.append(h_best_new)\n",
    "    \n"
   ]
  },
  {
   "cell_type": "code",
   "execution_count": 68,
   "metadata": {},
   "outputs": [
    {
     "name": "stdout",
     "output_type": "stream",
     "text": [
      "575.5368468717257\n"
     ]
    }
   ],
   "source": [
    "tax_new = 0\n",
    "\n",
    "for i, val in enumerate(h_optimal_new):\n",
    "    taxreturn_new = para_new['tau_g']*val + para_new['tau_p']*max(val - para_new['p_bar'],0) \n",
    "    tax_new += taxreturn_new\n",
    "\n",
    "print(tax_new)"
   ]
  },
  {
   "cell_type": "code",
   "execution_count": 69,
   "metadata": {},
   "outputs": [
    {
     "name": "stdout",
     "output_type": "stream",
     "text": [
      "0.05755368468717258\n"
     ]
    }
   ],
   "source": [
    "tax_per_hh_new=tax_new/N\n",
    "print(tax_per_hh_new)"
   ]
  },
  {
   "cell_type": "markdown",
   "metadata": {},
   "source": [
    "# Question 5"
   ]
  },
  {
   "cell_type": "code",
   "execution_count": 85,
   "metadata": {},
   "outputs": [
    {
     "name": "stdout",
     "output_type": "stream",
     "text": [
      "{'phi': 0.3, 'eps': 0.8, 'r': 0.03, 'tau_p': 0.009, 'p_bar': 8, 'p_c': 1}\n"
     ]
    }
   ],
   "source": [
    "para_new2 = {'phi': 0.3, 'eps': 0.8, 'r': 0.03, 'tau_p': 0.009, 'p_bar': 8, 'p_c': 1}\n",
    "print(para_new2)"
   ]
  },
  {
   "cell_type": "code",
   "execution_count": 111,
   "metadata": {},
   "outputs": [],
   "source": [
    "def value_of_choice_new2(x_new2, para_new2, m):\n",
    "    c = x_new2[0]\n",
    "    h = x_new2[1]\n",
    "    return -utility_function(c, h, para_new2) #minus to take the negative of the utility because optimization always minimizes"
   ]
  },
  {
   "cell_type": "code",
   "execution_count": 112,
   "metadata": {},
   "outputs": [
    {
     "name": "stderr",
     "output_type": "stream",
     "text": [
      "<ipython-input-4-e04788e5b977>:3: RuntimeWarning: invalid value encountered in double_scalars\n",
      "  u = c**(1-para['phi'])*h**(para['phi'])\n"
     ]
    }
   ],
   "source": [
    "N = 40\n",
    "tau_g_vec = np.linspace(0,0.05,N)\n",
    "f_vec = np.empty(N)\n",
    "\n",
    "#f_best = np.inf # initial maximum\n",
    "#tau_g_best = rev # revenue from Q3\n",
    "\n",
    "for i,tau_g in enumerate(tau_g_vec):\n",
    "\n",
    "    \n",
    "    constraints2 = ({'type': 'ineq', 'fun': lambda x:  m- (x[0] + para_new2['r']*x[1] \n",
    "                                                      + tau_g *x[1]*para_new2['eps']\n",
    "                                                      + para_new2['tau_p']*max(x[1]*para_new2['eps']\n",
    "                                                                                -para_new2['p_bar'],0))})\n",
    "    \n",
    "    \n",
    "    individual = []\n",
    "\n",
    "    for m in np.random.lognormal(mean=-0.4, sigma=0.35, size=10000):\n",
    "    \n",
    "\n",
    "        sol = optimize.minimize(\n",
    "        value_of_choice,initial_guess,args=(para_new2,m),\n",
    "        method='SLSQP',constraints=constraints2)\n",
    "\n",
    "        c_ = sol.x[0]\n",
    "        h_ = sol.x[1]\n",
    "\n",
    "\n",
    "        taxx = tau_g *h_ + para_new2['tau_p']*max(h_-para_new2['p_bar'],0)\n",
    "        \n",
    "        individual.append(taxx)\n",
    "        \n",
    "    r =sum(individual)\n",
    "    \n",
    "    if 812 <=r <= 813:\n",
    "        print(tau_g)\n",
    "    \n",
    "   \n",
    "    \n",
    "    #diff = r-812.7491280744767\n",
    "    #if  -0.00000001 <= diff <= 0.0000000001:\n",
    "     #   tau_g_best = tau_g\n",
    "        \n",
    "#print(f'best with loop tau_p = {tau_g_best:.8f}')"
   ]
  }
 ],
 "metadata": {
  "kernelspec": {
   "display_name": "Python 3",
   "language": "python",
   "name": "python3"
  },
  "language_info": {
   "codemirror_mode": {
    "name": "ipython",
    "version": 3
   },
   "file_extension": ".py",
   "mimetype": "text/x-python",
   "name": "python",
   "nbconvert_exporter": "python",
   "pygments_lexer": "ipython3",
   "version": "3.8.5"
  },
  "toc-autonumbering": false
 },
 "nbformat": 4,
 "nbformat_minor": 4
}
