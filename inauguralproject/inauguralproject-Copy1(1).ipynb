{
 "cells": [
  {
   "cell_type": "markdown",
   "metadata": {},
   "source": [
    "# Inaugural Project"
   ]
  },
  {
   "cell_type": "markdown",
   "metadata": {},
   "source": [
    "> **Note the following:** \n",
    "> 1. This is an example of how to structure your **inaugural project**.\n",
    "> 1. Remember the general advice on structuring and commenting your code from [lecture 5](https://numeconcopenhagen.netlify.com/lectures/Workflow_and_debugging).\n",
    "> 1. Remember this [guide](https://www.markdownguide.org/basic-syntax/) on markdown and (a bit of) latex.\n",
    "> 1. Turn on automatic numbering by clicking on the small icon on top of the table of contents in the left sidebar.\n",
    "> 1. The `inauguralproject.py` file includes a function which can be used multiple times in this notebook."
   ]
  },
  {
   "cell_type": "markdown",
   "metadata": {},
   "source": [
    "Imports and set magics:"
   ]
  },
  {
   "cell_type": "markdown",
   "metadata": {},
   "source": [
    "# Question 1"
   ]
  },
  {
   "cell_type": "markdown",
   "metadata": {},
   "source": [
    "Firstly the parameters are stored in a dict. Secound the utility function is defined. Next the solution is solved for consumption, housing quality and utility."
   ]
  },
  {
   "cell_type": "code",
   "execution_count": 6,
   "metadata": {},
   "outputs": [
    {
     "name": "stdout",
     "output_type": "stream",
     "text": [
      "The optimal consumption level is: 0.3500\n",
      " The optimal house quality is: 4.1653\n",
      " The utility is: 0.7358\n"
     ]
    }
   ],
   "source": [
    "from scipy import optimize\n",
    "\n",
    "# dictionary of exogenous variables\n",
    "param_dict = {'phi'  : 0.3,\n",
    "              'eps'  : 0.5,\n",
    "              'r'    : 0.03,\n",
    "              'tau_g': 0.012,\n",
    "              'tau_p': 0.004,\n",
    "              'p_bar': 3,\n",
    "             }\n",
    "#money on hand\n",
    "m=0.5\n",
    "\n",
    "#utility function\n",
    "def utility_function(c, h, param_dict):\n",
    "    return (c**(1-param_dict['phi']))*(h**param_dict['phi'])\n",
    "\n",
    "\n",
    "\n",
    "#the value of choice function\n",
    "def value_of_choice(x,param_dict,m):\n",
    "    # note: x is a vector\n",
    "    c = x[0]\n",
    "    h = x[1]\n",
    " \n",
    "    return -utility_function(c,h,param_dict)\n",
    "\n",
    "# constraints (violated if negative)\n",
    "\n",
    "constraints = ({'type': 'ineq', 'fun': lambda x:  m - (x[0] + param_dict['r']*x[1] \n",
    "                                                      + param_dict['tau_g']*x[1]*param_dict['eps']\n",
    "                                                      + param_dict['tau_p']*max(x[1]*param_dict['eps']\n",
    "                                                                                -param_dict['p_bar'],0))})\n",
    "\n",
    "#  solving the function\n",
    "def solver(m, param_dict):\n",
    "        initial_guess = [m/2,m/2]\n",
    "        sol_case = optimize.minimize(\n",
    "        value_of_choice,initial_guess,args=(param_dict,m),\n",
    "        method='SLSQP',constraints=constraints)\n",
    "# d. unpack solution\n",
    "        c = sol_case.x[0]\n",
    "        h = sol_case.x[1]\n",
    "        u = utility_function(c, h, param_dict)\n",
    "        return c, h, u\n",
    "\n",
    "#calling the results\n",
    "results = solver(m, param_dict)\n",
    "\n",
    "#h = solver(m, param_dict)\n",
    "#u = solver(m, param_dict)\n",
    "print(f'The optimal consumption level is: {results[0]:.4f}')\n",
    "\n",
    "print(f' The optimal house quality is: {results[1]:.4f}')\n",
    "\n",
    "print(f' The utility is: {results[2]:.4f}')\n"
   ]
  },
  {
   "cell_type": "markdown",
   "metadata": {},
   "source": [
    "# Question 2"
   ]
  },
  {
   "cell_type": "markdown",
   "metadata": {},
   "source": [
    "First, datacontainers are defined. Secound, solving the function using a loop for values between 0.4 and 2.5 and stored in the datacontainers. Lastly the figure plots the optimal consumption and housing quality for the different amount of money."
   ]
  },
  {
   "cell_type": "code",
   "execution_count": 7,
   "metadata": {
    "scrolled": true
   },
   "outputs": [
    {
     "data": {
      "image/png": "[encoded data removed]",
      "text/plain": [
       "<Figure size 864x288 with 2 Axes>"
      ]
     },
     "metadata": {
      "needs_background": "light"
     },
     "output_type": "display_data"
    }
   ],
   "source": [
    "import numpy as np\n",
    "import matplotlib.pyplot as plt # baseline modul\n",
    "\n",
    "#Data containers\n",
    "c_star = []\n",
    "h_star = []\n",
    "x_axis = []\n",
    "# loop 100 values between 0.4 and 2.5, 2.5 included\n",
    "for m in np.linspace(0.4,2.5,num=100,endpoint=True):\n",
    "\n",
    "#  solving the function\n",
    "    results2 = solver(m, param_dict)\n",
    "\n",
    "\n",
    "    #appending the results to the data containers \n",
    "    c_star.append(results2[0])\n",
    "    h_star.append(results2[1])\n",
    "    x_axis.append(m)\n",
    "    \n",
    "\n",
    "#initialising the figuere\n",
    "fig = plt.figure(figsize=(12,4))\n",
    "\n",
    "# Optimal consumption\n",
    "ax = fig.add_subplot(1,2,1)\n",
    "ax.plot(x_axis, c_star, color='blue', label=\"$c*$\", linewidth=5)\n",
    "ax.set_ylabel('Consumption, $c*$')\n",
    "ax.set_xlabel('Endowment, $m$')\n",
    "\n",
    "# adding legend\n",
    "plt.legend(loc='best', fontsize=15)\n",
    "\n",
    "# costumizing end and begining of x and y axis\n",
    "ax.set_xlim([0,2.7])\n",
    "ax.set_ylim([0,2.5])\n",
    "ax.grid(True)\n",
    "\n",
    "\n",
    "# Optimal housing\n",
    "ax = fig.add_subplot(1,2,2)\n",
    "ax.plot(x_axis, h_star, color='red', label=\"$h*$\", linewidth=5)\n",
    "ax.set_ylabel('Housing, h*')\n",
    "ax.set_xlabel('Endowmnent, $m$')\n",
    "\n",
    "# adding legend\n",
    "plt.legend(loc='best', fontsize=15)\n",
    "\n",
    "# costumizing end and begining of x and y axis.\n",
    "ax.set_xlim([0,2.7])\n",
    "ax.set_ylim([0,22])\n",
    "ax.grid(True)"
   ]
  },
  {
   "cell_type": "markdown",
   "metadata": {},
   "source": [
    "# Question 3"
   ]
  },
  {
   "cell_type": "markdown",
   "metadata": {},
   "source": [
    "Setting the number of observations, N, to 10 000 and the seed to 1.\n",
    "Defining the tax function, that takes in house prices and tax rates.\n",
    "drawing 10000 values of m from the lognormal(-0.4,0.35) distribution.\n",
    "Saving the taxes payed in a data container, then calculation the average tax payment.\n",
    "\n"
   ]
  },
  {
   "cell_type": "code",
   "execution_count": 8,
   "metadata": {},
   "outputs": [
    {
     "name": "stderr",
     "output_type": "stream",
     "text": [
      "/opt/anaconda3/lib/python3.7/site-packages/ipykernel_launcher.py:16: RuntimeWarning: invalid value encountered in double_scalars\n",
      "  app.launch_new_instance()\n"
     ]
    },
    {
     "name": "stdout",
     "output_type": "stream",
     "text": [
      "812.8025162127465\n",
      "0.08128025162127464\n"
     ]
    }
   ],
   "source": [
    "#Number of observations\n",
    "N = 10000\n",
    "# Setting the seed\n",
    "np.random.seed(seed=1)\n",
    "\n",
    "#Defining the tax function\n",
    "def tax_func(h, param_dict):\n",
    "    return param_dict['tau_g']*h + param_dict['tau_p']*max(h-param_dict['p_bar'],0)\n",
    "\n",
    "#generating values for cash on hand, from the log normal distribution with mean -0,4 and variance 0.35\n",
    "M = np.random.lognormal(mean=-0.4,sigma = 0.35,size=10000)\n",
    "\n",
    "#container for the individuals taxpayer\n",
    "individual_i = []\n",
    "#h_star container for plotting later\n",
    "h_star = []\n",
    "#looping the cash on hand values though the solver for c and h\n",
    "for m in M:\n",
    "    \n",
    "    results3 = solver(m, param_dict)\n",
    "    h_star.append(results3[1])\n",
    "\n",
    "#calculating the tax for each iteration\n",
    "    tax = tax_func(results3[1], param_dict)\n",
    "#appending the tax to the container\n",
    "    individual_i.append(tax)\n",
    "\n",
    "#Calculating the revenue\n",
    "rev= sum(individual_i)   \n",
    "print(rev)\n",
    "avg_tax=rev/N\n",
    "print(avg_tax)"
   ]
  },
  {
   "cell_type": "code",
   "execution_count": 9,
   "metadata": {},
   "outputs": [
    {
     "data": {
      "image/png": "[encoded data removed]",
      "text/plain": [
       "<Figure size 600x400 with 1 Axes>"
      ]
     },
     "metadata": {
      "needs_background": "light"
     },
     "output_type": "display_data"
    }
   ],
   "source": [
    "#plotting the distribution of cash on hand\n",
    "fig = plt.figure(dpi=100) #Dots per inches (dpi) determines how many pixels the figure comprises. The default dpi in matplotlib is 100.\n",
    "ax = fig.add_subplot(1,1,1)\n",
    "plt.title(\"Distribution of cash-on-hand\")\n",
    "ax.hist(M,bins=100,density=True,label='normal')\n",
    "ax.set_xlabel('Cash-on-hand, $m$');"
   ]
  },
  {
   "cell_type": "code",
   "execution_count": 10,
   "metadata": {},
   "outputs": [
    {
     "data": {
      "image/png": "[encoded data removed]",
      "text/plain": [
       "<Figure size 432x288 with 1 Axes>"
      ]
     },
     "metadata": {
      "needs_background": "light"
     },
     "output_type": "display_data"
    }
   ],
   "source": [
    "#plotting distribution of optimal house \n",
    "plt.hist(h_star, bins=100)\n",
    "plt.title(\"Distribution of optimal housing choice\")\n",
    "plt.show()\n",
    "# we observe some bunging around 6 million."
   ]
  },
  {
   "cell_type": "markdown",
   "metadata": {},
   "source": [
    "# Question 4"
   ]
  },
  {
   "cell_type": "markdown",
   "metadata": {},
   "source": [
    "Opdating the parameter, and solving for c and h and calculating the average tax payment as in question 3."
   ]
  },
  {
   "cell_type": "code",
   "execution_count": 11,
   "metadata": {},
   "outputs": [
    {
     "name": "stdout",
     "output_type": "stream",
     "text": [
      "575.5713370557846\n",
      "0.05755713370557846\n"
     ]
    }
   ],
   "source": [
    "# opdating the parameters.\n",
    "param_dict['eps'] = 0.8\n",
    "param_dict['tau_g'] = 0.01\n",
    "param_dict['tau_p'] = 0.009\n",
    "param_dict['p_bar'] = 8\n",
    "\n",
    "#solving as in Q3\n",
    "individual_i2 = []\n",
    "\n",
    "for m in M:\n",
    "    \n",
    "#solving\n",
    "    results4 = solver(m, param_dict)\n",
    "\n",
    "    tax2 = tax_func(results4[1], param_dict)\n",
    "    individual_i2.append(tax2)\n",
    "\n",
    "rev2= sum(individual_i2)   \n",
    "print(rev2)\n",
    "avg_tax2=rev2/N\n",
    "print(avg_tax2)"
   ]
  },
  {
   "cell_type": "markdown",
   "metadata": {},
   "source": [
    "# Question 5"
   ]
  },
  {
   "cell_type": "markdown",
   "metadata": {},
   "source": [
    "Calculating the minimum distance between the tax revenue between the first and the secound tax regime for various tau_g values. "
   ]
  },
  {
   "cell_type": "code",
   "execution_count": 12,
   "metadata": {},
   "outputs": [
    {
     "name": "stderr",
     "output_type": "stream",
     "text": [
      "/opt/anaconda3/lib/python3.7/site-packages/ipykernel_launcher.py:16: RuntimeWarning: invalid value encountered in double_scalars\n",
      "  app.launch_new_instance()\n"
     ]
    },
    {
     "name": "stdout",
     "output_type": "stream",
     "text": [
      "(0.01616161616161616, 3.1518603242741694e-05)\n"
     ]
    }
   ],
   "source": [
    "######################################################\n",
    "# Takes a lot of time to run \n",
    "#####################################################\n",
    "\n",
    "\n",
    "\n",
    "#creating a vector with 100 values between 0 and 0.02.\n",
    "tau_g_vec = np.linspace(0,0.02,100)\n",
    "\n",
    "'''\n",
    "# creating initial values\n",
    "f_vec = np.empty(N)\n",
    "f_best = np.inf # initial maximum\n",
    "\n",
    "\n",
    "tau_g_best = np.nan # revenue from Q3\n",
    "'''\n",
    "#creating data containers for the revenue and tau_g values\n",
    "rev_li =[]\n",
    "tau_g_li =[]\n",
    "\n",
    "#a loop for iterating the 100 values of tau_g and placing them in the optimization and calculationg the tax revenue\n",
    "for i,tau_g in enumerate(tau_g_vec):\n",
    "    # replacing tau_g in the param_dict with the current iteration \n",
    "    param_dict['tau_g'] = tau_g\n",
    "        \n",
    "    individual = []\n",
    "\n",
    "    for m in M:\n",
    "\n",
    "        results5 = solver(m, param_dict)\n",
    "\n",
    "        tax_last =  tax_func(results5[1], param_dict)\n",
    "        individual.append(tax_last)\n",
    "    r_ =sum(individual)\n",
    "    r = r_/len(individual)\n",
    "    tau_g_li.append(tau_g)\n",
    "    # calculationg the difference between the average tax from question 3 and the average tax \n",
    "    #from the current iteration of tau_g in abselute values.\n",
    "    rev_li.append(abs(avg_tax-r))\n",
    "\n",
    "#zipping the tau_g iteration with the revenue difference assosiated with it\n",
    "c = list(zip(tau_g_li, rev_li))\n",
    "#Finding the tau_g that provides the same revenue as in q3.\n",
    "optimal_tau_g = min(c, key = lambda t: t[1])\n",
    "print(optimal_tau_g)"
   ]
  },
  {
   "cell_type": "markdown",
   "metadata": {},
   "source": [
    "# Conclusion"
   ]
  },
  {
   "cell_type": "markdown",
   "metadata": {},
   "source": [
    "ADD CONCISE CONLUSION."
   ]
  }
 ],
 "metadata": {
  "kernelspec": {
   "display_name": "Python 3",
   "language": "python",
   "name": "python3"
  },
  "language_info": {
   "codemirror_mode": {
    "name": "ipython",
    "version": 3
   },
   "file_extension": ".py",
   "mimetype": "text/x-python",
   "name": "python",
   "nbconvert_exporter": "python",
   "pygments_lexer": "ipython3",
   "version": "3.7.9"
  },
  "toc-autonumbering": true
 },
 "nbformat": 4,
 "nbformat_minor": 4
}
