{
 "cells": [
  {
   "cell_type": "markdown",
   "metadata": {},
   "source": [
    "# Inaugural Project"
   ]
  },
  {
   "cell_type": "markdown",
   "metadata": {},
   "source": [
    "> **Note the following:** \n",
    "> 1. This is an example of how to structure your **inaugural project**.\n",
    "> 1. Remember the general advice on structuring and commenting your code from [lecture 5](https://numeconcopenhagen.netlify.com/lectures/Workflow_and_debugging).\n",
    "> 1. Remember this [guide](https://www.markdownguide.org/basic-syntax/) on markdown and (a bit of) latex.\n",
    "> 1. Turn on automatic numbering by clicking on the small icon on top of the table of contents in the left sidebar.\n",
    "> 1. The `inauguralproject.py` file includes a function which can be used multiple times in this notebook."
   ]
  },
  {
   "cell_type": "markdown",
   "metadata": {},
   "source": [
    "Imports and set magics:"
   ]
  },
  {
   "cell_type": "markdown",
   "metadata": {},
   "source": [
    "# Question 1"
   ]
  },
  {
   "cell_type": "markdown",
   "metadata": {},
   "source": [
    "Firstly the parameters are stored in a dict. Secound the utility function is defined. Next the solution is solved for consumption, housing quality and utility."
   ]
  },
  {
   "cell_type": "code",
   "execution_count": 2,
   "metadata": {},
   "outputs": [
    {
     "name": "stdout",
     "output_type": "stream",
     "text": [
      "The optimal consumption level is: 0.3500\n",
      " The optimal house quality is: 4.1653\n",
      " The utility is: 0.7358\n"
     ]
    }
   ],
   "source": [
    "from scipy import optimize\n",
    "\n",
    "# dictionary of exogenous variables\n",
    "param_dict = {'phi'  : 0.3,\n",
    "              'eps'  : 0.5,\n",
    "              'r'    : 0.03,\n",
    "              'tau_g': 0.012,\n",
    "              'tau_p': 0.004,\n",
    "              'p_bar': 3,\n",
    "             }\n",
    "#money on hand\n",
    "m=0.5\n",
    "\n",
    "#utility function\n",
    "def utility_function(c, h, param_dict):\n",
    "    return (c**(1-param_dict['phi']))*(h**param_dict['phi'])\n",
    "\n",
    "\n",
    "\n",
    "#the value of choice function\n",
    "def value_of_choice(x,param_dict,m):\n",
    "    # note: x is a vector\n",
    "    c = x[0]\n",
    "    h = x[1]\n",
    " \n",
    "    return -utility_function(c,h,param_dict)\n",
    "\n",
    "# constraints (violated if negative)\n",
    "\n",
    "constraints = ({'type': 'ineq', 'fun': lambda x:  m - (x[0] + param_dict['r']*x[1] \n",
    "                                                      + param_dict['tau_g']*x[1]*param_dict['eps']\n",
    "                                                      + param_dict['tau_p']*max(x[1]*param_dict['eps']\n",
    "                                                                                -param_dict['p_bar'],0))})\n",
    "\n",
    "#  solving the function\n",
    "initial_guess = [m/2,m/2]\n",
    "sol_case = optimize.minimize(\n",
    "    value_of_choice,initial_guess,args=(param_dict,m),\n",
    "    method='SLSQP',constraints=constraints)\n",
    "\n",
    "\n",
    "# d. unpack solution\n",
    "c = sol_case.x[0]\n",
    "h= sol_case.x[1]\n",
    "u = utility_function(c, h, param_dict)\n",
    "\n",
    "\n",
    "print(f'The optimal consumption level is: {c:.4f}')\n",
    "\n",
    "print(f' The optimal house quality is: {h:.4f}')\n",
    "\n",
    "print(f' The utility is: {u:.4f}')\n"
   ]
  },
  {
   "cell_type": "markdown",
   "metadata": {},
   "source": [
    "# Question 2"
   ]
  },
  {
   "cell_type": "markdown",
   "metadata": {},
   "source": [
    "First, datacontainers are defined. Secound, solving the function using a loop for values between 0.4 and 2.5 and stored in the datacontainers. Lastly the figure plots the optimal consumption and housing quality for the different amount of money."
   ]
  },
  {
   "cell_type": "code",
   "execution_count": 3,
   "metadata": {
    "scrolled": true
   },
   "outputs": [
    {
     "data": {
      "image/png": "[encoded data removed]",
      "text/plain": [
       "<Figure size 432x432 with 1 Axes>"
      ]
     },
     "metadata": {
      "needs_background": "light"
     },
     "output_type": "display_data"
    }
   ],
   "source": [
    "import numpy as np\n",
    "import matplotlib.pyplot as plt # baseline modul\n",
    "\n",
    "#Data containers\n",
    "c_star = []\n",
    "h_star = []\n",
    "x_axis = []\n",
    "# loop 100 values between 0.4 and 2.5, 2.5 included\n",
    "for m in np.linspace(0.4,2.5,num=100,endpoint=True):\n",
    "\n",
    "#  solving the function\n",
    "    \n",
    "    sol_case = optimize.minimize(\n",
    "    value_of_choice,initial_guess,args=(param_dict,m),\n",
    "    method='SLSQP',constraints=constraints)\n",
    "\n",
    "    c = sol_case.x[0]\n",
    "    h = sol_case.x[1]\n",
    "\n",
    "\n",
    "    #appending the results to the data containers \n",
    "    c_star.append(c)\n",
    "    h_star.append(h)\n",
    "    x_axis.append(m)\n",
    "    \n",
    "    \n",
    "#initialising the figuere\n",
    "\n",
    "fig = plt.figure(figsize=(6,6))\n",
    "ax = fig.add_subplot(1,1,1)\n",
    "\n",
    "#adding title\n",
    "plt.title(\"Combined Statistics\")\n",
    "\n",
    "#plotting c and h values as lines\n",
    "ax.plot(x_axis, c_star, color='blue', label=\"$c*$\", linewidth=5)\n",
    "ax.plot(x_axis, h_star, color='red', label=\"$h*$\", linewidth=5)\n",
    "\n",
    "# adding legend\n",
    "plt.legend(loc='best', fontsize=15)\n",
    "\n",
    "# adding labels \n",
    "ax.set_xlabel('Cash on hand')\n",
    "ax.set_ylabel('$c*, h*$')\n",
    "\n",
    "# costumizing end and begining of x and y axis.\n",
    "ax.set_xlim([0,2.7])\n",
    "ax.set_ylim([0,22])\n",
    "ax.grid(True)  \n"
   ]
  },
  {
   "cell_type": "markdown",
   "metadata": {},
   "source": [
    "# Question 3"
   ]
  },
  {
   "cell_type": "markdown",
   "metadata": {},
   "source": [
    "ADD ANSWER."
   ]
  },
  {
   "cell_type": "code",
   "execution_count": 4,
   "metadata": {},
   "outputs": [
    {
     "name": "stdout",
     "output_type": "stream",
     "text": [
      "812.749128210178\n",
      "0.0812749128210178\n"
     ]
    }
   ],
   "source": [
    "#do we use epsilon in this regime????\n",
    "\n",
    "\n",
    "N = 10000\n",
    "seed =1 \n",
    "np.random.seed(seed)\n",
    "#m = np.random.lognormal(mean=-0.4, sigma=0.35, size=N)\n",
    "\n",
    "\n",
    "def tax_func(h, param_dict):\n",
    "    \"\"\" tax function \"\"\"\n",
    "    \n",
    "    return param_dict['tau_g']*h + param_dict['tau_p']*max(h-param_dict['p_bar'],0)\n",
    "\n",
    "\n",
    "\n",
    "\n",
    "\n",
    "\n",
    "\n",
    "individual_i = []\n",
    "\n",
    "for m in np.random.lognormal(mean=-0.4, sigma=0.35, size=N):\n",
    "    \n",
    "\n",
    "    sol_case2 = optimize.minimize(\n",
    "    value_of_choice,initial_guess,args=(param_dict,m),\n",
    "    method='SLSQP',constraints=constraints)\n",
    "\n",
    "    c2 = sol_case2.x[0]\n",
    "    h2= sol_case2.x[1]\n",
    "\n",
    "\n",
    "    tax = tax_func(h2, param_dict)\n",
    "    individual_i.append(tax)\n",
    "\n",
    "rev= sum(individual_i)   \n",
    "print(rev)\n",
    "avg_tax=rev/N\n",
    "print(avg_tax)"
   ]
  },
  {
   "cell_type": "markdown",
   "metadata": {},
   "source": [
    "# Question 4"
   ]
  },
  {
   "cell_type": "markdown",
   "metadata": {},
   "source": [
    "ADD ANSWER."
   ]
  },
  {
   "cell_type": "code",
   "execution_count": 5,
   "metadata": {},
   "outputs": [
    {
     "name": "stdout",
     "output_type": "stream",
     "text": [
      "575.5368478601471\n",
      "0.057553684786014705\n"
     ]
    }
   ],
   "source": [
    "param_dict2 = {'phi'  : 0.3,\n",
    "              'eps'  : 0.8,\n",
    "              'r'    : 0.03,\n",
    "              'tau_g': 0.01,\n",
    "              'tau_p': 0.009,\n",
    "              'p_bar': 8,\n",
    "             }\n",
    "N = 10000\n",
    "seed =1 \n",
    "np.random.seed(seed)\n",
    "#m = np.random.lognormal(mean=-0.4, sigma=0.35, size=N)\n",
    "def tax_func(h, param_dict2):\n",
    "    \"\"\" tax function \"\"\"\n",
    "    \n",
    "    return param_dict2['tau_g']*h + param_dict2['tau_p']*max(h-param_dict2['p_bar'],0)\n",
    "\n",
    "\n",
    "\n",
    "\n",
    "constraints2 = ({'type': 'ineq', 'fun': lambda x:  m- (x[0] + param_dict2['r']*x[1] \n",
    "                                                      + param_dict2['tau_g']*x[1]*param_dict2['eps']\n",
    "                                                      + param_dict2['tau_p']*max(x[1]*param_dict2['eps']\n",
    "                                                                                -param_dict2['p_bar'],0))})\n",
    "individual_i2 = []\n",
    "\n",
    "for m in np.random.lognormal(mean=-0.4, sigma=0.35, size=N):\n",
    "    \n",
    "\n",
    "    sol_case3 = optimize.minimize(\n",
    "    value_of_choice,initial_guess,args=(param_dict2,m),\n",
    "    method='SLSQP',constraints=constraints2)\n",
    "\n",
    "    c3 = sol_case3.x[0]\n",
    "    h3= sol_case3.x[1]\n",
    "    #print(c3)\n",
    "\n",
    "\n",
    "    tax2 = tax_func(h3, param_dict2)\n",
    "    individual_i2.append(tax2)\n",
    "\n",
    "rev2= sum(individual_i2)   \n",
    "print(rev2)\n",
    "avg_tax2=rev2/N\n",
    "print(avg_tax2)"
   ]
  },
  {
   "cell_type": "markdown",
   "metadata": {},
   "source": [
    "# Question 5"
   ]
  },
  {
   "cell_type": "markdown",
   "metadata": {},
   "source": [
    "ADD ANSWER."
   ]
  },
  {
   "cell_type": "code",
   "execution_count": 46,
   "metadata": {},
   "outputs": [
    {
     "name": "stdout",
     "output_type": "stream",
     "text": [
      "(0.01616161616161616, 0.0002068987076586093)\n"
     ]
    }
   ],
   "source": [
    "N = 100\n",
    "tau_g_vec = np.linspace(0,0.05,N)\n",
    "f_vec = np.empty(N)\n",
    "\n",
    "f_best = np.inf # initial maximum\n",
    "tau_g_best = np.nan # revenue from Q3\n",
    "\n",
    "rev_li =[]\n",
    "tau_g_li =[]\n",
    "\n",
    "for i,tau_g in enumerate(tau_g_vec):\n",
    "\n",
    "    constraints2 = ({'type': 'ineq', 'fun': lambda x:  m- (x[0] + param_dict2['r']*x[1] \n",
    "                                                      + tau_g *x[1]*param_dict2['eps']\n",
    "                                                      + param_dict2['tau_p']*max(x[1]*param_dict2['eps']\n",
    "                                                                                -param_dict2['p_bar'],0))})\n",
    "    \n",
    "    \n",
    "    individual = []\n",
    "\n",
    "    for m in np.random.lognormal(mean=-0.4, sigma=0.35, size=100):\n",
    "    \n",
    "\n",
    "        sol = optimize.minimize(\n",
    "        value_of_choice,initial_guess,args=(param_dict2,m),\n",
    "        method='SLSQP',constraints=constraints2)\n",
    "\n",
    "        c_ = sol.x[0]\n",
    "        h_ = sol.x[1]\n",
    "\n",
    "\n",
    "        taxx = tau_g *h_ + param_dict2['tau_p']*max(h_-param_dict2['p_bar'],0)\n",
    "        individual.append(taxx)\n",
    "    r_ =sum(individual)\n",
    "    r = r_/100\n",
    "    tau_g_li.append(tau_g)\n",
    "    rev_li.append(abs(avg_tax-r))\n",
    "\n",
    "together = list(zip(tau_g_li, rev_li))\n",
    "c = list(zip(tau_g_li, rev_li))\n",
    "optimal_tau_g = min(c, key = lambda t: t[1])\n",
    "print(optimal_tau_g)"
   ]
  },
  {
   "cell_type": "code",
   "execution_count": 48,
   "metadata": {
    "scrolled": true
   },
   "outputs": [
    {
     "name": "stdout",
     "output_type": "stream",
     "text": [
      "812.4799277398922\n",
      "0.08124799277398922\n"
     ]
    }
   ],
   "source": [
    "param_dict3= {'phi'  : 0.3,\n",
    "              'eps'  : 0.8,\n",
    "              'r'    : 0.03,\n",
    "              'tau_g': 0.01616161616161616,\n",
    "              'tau_p': 0.009,\n",
    "              'p_bar': 8,\n",
    "             }\n",
    "N = 10000\n",
    "seed =1 \n",
    "np.random.seed(seed)\n",
    "#m = np.random.lognormal(mean=-0.4, sigma=0.35, size=N)\n",
    "def tax_func(h, param_dict3):\n",
    "    \"\"\" tax function \"\"\"\n",
    "    \n",
    "    return param_dict3['tau_g']*h + param_dict3['tau_p']*max(h-param_dict3['p_bar'],0)\n",
    "\n",
    "\n",
    "\n",
    "\n",
    "constraints2 = ({'type': 'ineq', 'fun': lambda x:  m- (x[0] + param_dict3['r']*x[1] \n",
    "                                                      + param_dict3['tau_g']*x[1]*param_dict3['eps']\n",
    "                                                      + param_dict3['tau_p']*max(x[1]*param_dict3['eps']\n",
    "                                                                                -param_dict3['p_bar'],0))})\n",
    "individual_i2 = []\n",
    "\n",
    "for m in np.random.lognormal(mean=-0.4, sigma=0.35, size=N):\n",
    "    \n",
    "\n",
    "    sol_case_test = optimize.minimize(\n",
    "    value_of_choice,initial_guess,args=(param_dict3,m),\n",
    "    method='SLSQP',constraints=constraints2)\n",
    "\n",
    "    c_test = sol_case_test.x[0]\n",
    "    h_test= sol_case_test.x[1]\n",
    "    #print(c3)\n",
    "\n",
    "\n",
    "    taks = tax_func(h_test, param_dict3)\n",
    "    individual_i2.append(taks)\n",
    "\n",
    "rev2= sum(individual_i2)   \n",
    "print(rev2)\n",
    "avg_tax2=rev2/N\n",
    "print(avg_tax2)\n"
   ]
  },
  {
   "cell_type": "markdown",
   "metadata": {},
   "source": [
    "# Conclusion"
   ]
  },
  {
   "cell_type": "markdown",
   "metadata": {},
   "source": [
    "ADD CONCISE CONLUSION."
   ]
  }
 ],
 "metadata": {
  "kernelspec": {
   "display_name": "Python 3",
   "language": "python",
   "name": "python3"
  },
  "language_info": {
   "codemirror_mode": {
    "name": "ipython",
    "version": 3
   },
   "file_extension": ".py",
   "mimetype": "text/x-python",
   "name": "python",
   "nbconvert_exporter": "python",
   "pygments_lexer": "ipython3",
   "version": "3.7.9"
  },
  "toc-autonumbering": true
 },
 "nbformat": 4,
 "nbformat_minor": 4
}
